{
 "cells": [
  {
   "cell_type": "code",
   "execution_count": 1,
   "id": "90cc0ca2",
   "metadata": {},
   "outputs": [
    {
     "name": "stdout",
     "output_type": "stream",
     "text": [
      "Applied providers: ['CPUExecutionProvider'], with options: {'CPUExecutionProvider': {}}\n",
      "find model: insightface_model\\models\\buffalo_sc\\det_500m.onnx detection [1, 3, '?', '?'] 127.5 128.0\n",
      "Applied providers: ['CPUExecutionProvider'], with options: {'CPUExecutionProvider': {}}\n",
      "find model: insightface_model\\models\\buffalo_sc\\w600k_mbf.onnx recognition ['None', 3, 112, 112] 127.5 127.5\n",
      "set det-size: (640, 640)\n"
     ]
    }
   ],
   "source": [
    "import face_rec"
   ]
  },
  {
   "cell_type": "code",
   "execution_count": 2,
   "id": "f0ec257a",
   "metadata": {},
   "outputs": [],
   "source": [
    "import pandas as pd\n",
    "import numpy as np\n",
    "import cv2"
   ]
  },
  {
   "cell_type": "code",
   "execution_count": 3,
   "id": "b1a7c1e0",
   "metadata": {},
   "outputs": [
    {
     "data": {
      "text/plain": [
       "True"
      ]
     },
     "execution_count": 3,
     "metadata": {},
     "output_type": "execute_result"
    }
   ],
   "source": [
    "face_rec.r.ping()"
   ]
  },
  {
   "cell_type": "code",
   "execution_count": 4,
   "id": "3351bb62",
   "metadata": {},
   "outputs": [],
   "source": [
    "### Step 1: extract data from database"
   ]
  },
  {
   "cell_type": "code",
   "execution_count": 5,
   "id": "3c783053",
   "metadata": {},
   "outputs": [
    {
     "data": {
      "text/html": [
       "<div>\n",
       "<style scoped>\n",
       "    .dataframe tbody tr th:only-of-type {\n",
       "        vertical-align: middle;\n",
       "    }\n",
       "\n",
       "    .dataframe tbody tr th {\n",
       "        vertical-align: top;\n",
       "    }\n",
       "\n",
       "    .dataframe thead th {\n",
       "        text-align: right;\n",
       "    }\n",
       "</style>\n",
       "<table border=\"1\" class=\"dataframe\">\n",
       "  <thead>\n",
       "    <tr style=\"text-align: right;\">\n",
       "      <th></th>\n",
       "      <th>name_role</th>\n",
       "      <th>facial_features</th>\n",
       "      <th>name</th>\n",
       "      <th>role</th>\n",
       "    </tr>\n",
       "  </thead>\n",
       "  <tbody>\n",
       "    <tr>\n",
       "      <th>0</th>\n",
       "      <td>abc@Student</td>\n",
       "      <td>[0.1912692, -0.48850536, -1.6902622, 0.4422732...</td>\n",
       "      <td>abc</td>\n",
       "      <td>Student</td>\n",
       "    </tr>\n",
       "    <tr>\n",
       "      <th>1</th>\n",
       "      <td>Scarlett Johansson@Student</td>\n",
       "      <td>[0.1912692, -0.48850536, -1.6902622, 0.4422732...</td>\n",
       "      <td>Scarlett Johansson</td>\n",
       "      <td>Student</td>\n",
       "    </tr>\n",
       "    <tr>\n",
       "      <th>2</th>\n",
       "      <td>Annabeth@Student</td>\n",
       "      <td>[0.1912692, -0.48850536, -1.6902622, 0.4422732...</td>\n",
       "      <td>Annabeth</td>\n",
       "      <td>Student</td>\n",
       "    </tr>\n",
       "    <tr>\n",
       "      <th>3</th>\n",
       "      <td>Chris Evans@Student</td>\n",
       "      <td>[0.72002447, -1.4682528, -0.77743137, -1.45999...</td>\n",
       "      <td>Chris Evans</td>\n",
       "      <td>Student</td>\n",
       "    </tr>\n",
       "    <tr>\n",
       "      <th>4</th>\n",
       "      <td>percy@Admin</td>\n",
       "      <td>[0.1912692, -0.48850536, -1.6902622, 0.4422732...</td>\n",
       "      <td>percy</td>\n",
       "      <td>Admin</td>\n",
       "    </tr>\n",
       "    <tr>\n",
       "      <th>5</th>\n",
       "      <td>Morgan Freeman@Teacher</td>\n",
       "      <td>[0.48562637, -0.61965686, -0.4072629, 1.068597...</td>\n",
       "      <td>Morgan Freeman</td>\n",
       "      <td>Teacher</td>\n",
       "    </tr>\n",
       "    <tr>\n",
       "      <th>6</th>\n",
       "      <td>Barack Obama@Teacher</td>\n",
       "      <td>[0.94846946, -0.5583677, 0.09491567, -1.279613...</td>\n",
       "      <td>Barack Obama</td>\n",
       "      <td>Teacher</td>\n",
       "    </tr>\n",
       "    <tr>\n",
       "      <th>7</th>\n",
       "      <td>Yuthika@Student</td>\n",
       "      <td>[0.1912692, -0.48850536, -1.6902622, 0.4422732...</td>\n",
       "      <td>Yuthika</td>\n",
       "      <td>Student</td>\n",
       "    </tr>\n",
       "    <tr>\n",
       "      <th>8</th>\n",
       "      <td>qwerty@Teacher</td>\n",
       "      <td>[0.1912692, -0.48850536, -1.6902622, 0.4422732...</td>\n",
       "      <td>qwerty</td>\n",
       "      <td>Teacher</td>\n",
       "    </tr>\n",
       "    <tr>\n",
       "      <th>9</th>\n",
       "      <td>Angelina Jolie@Student</td>\n",
       "      <td>[0.4324317, 1.074975, -0.12851736, -1.833421, ...</td>\n",
       "      <td>Angelina Jolie</td>\n",
       "      <td>Student</td>\n",
       "    </tr>\n",
       "    <tr>\n",
       "      <th>10</th>\n",
       "      <td>xyz@Student</td>\n",
       "      <td>[0.1912692, -0.48850536, -1.6902622, 0.4422732...</td>\n",
       "      <td>xyz</td>\n",
       "      <td>Student</td>\n",
       "    </tr>\n",
       "    <tr>\n",
       "      <th>11</th>\n",
       "      <td>Yuthika Goel@Teacher</td>\n",
       "      <td>[0.1912692, -0.48850536, -1.6902622, 0.4422732...</td>\n",
       "      <td>Yuthika Goel</td>\n",
       "      <td>Teacher</td>\n",
       "    </tr>\n",
       "  </tbody>\n",
       "</table>\n",
       "</div>"
      ],
      "text/plain": [
       "                     name_role  \\\n",
       "0                  abc@Student   \n",
       "1   Scarlett Johansson@Student   \n",
       "2             Annabeth@Student   \n",
       "3          Chris Evans@Student   \n",
       "4                  percy@Admin   \n",
       "5       Morgan Freeman@Teacher   \n",
       "6         Barack Obama@Teacher   \n",
       "7              Yuthika@Student   \n",
       "8               qwerty@Teacher   \n",
       "9       Angelina Jolie@Student   \n",
       "10                 xyz@Student   \n",
       "11        Yuthika Goel@Teacher   \n",
       "\n",
       "                                      facial_features                name  \\\n",
       "0   [0.1912692, -0.48850536, -1.6902622, 0.4422732...                 abc   \n",
       "1   [0.1912692, -0.48850536, -1.6902622, 0.4422732...  Scarlett Johansson   \n",
       "2   [0.1912692, -0.48850536, -1.6902622, 0.4422732...            Annabeth   \n",
       "3   [0.72002447, -1.4682528, -0.77743137, -1.45999...         Chris Evans   \n",
       "4   [0.1912692, -0.48850536, -1.6902622, 0.4422732...               percy   \n",
       "5   [0.48562637, -0.61965686, -0.4072629, 1.068597...      Morgan Freeman   \n",
       "6   [0.94846946, -0.5583677, 0.09491567, -1.279613...        Barack Obama   \n",
       "7   [0.1912692, -0.48850536, -1.6902622, 0.4422732...             Yuthika   \n",
       "8   [0.1912692, -0.48850536, -1.6902622, 0.4422732...              qwerty   \n",
       "9   [0.4324317, 1.074975, -0.12851736, -1.833421, ...      Angelina Jolie   \n",
       "10  [0.1912692, -0.48850536, -1.6902622, 0.4422732...                 xyz   \n",
       "11  [0.1912692, -0.48850536, -1.6902622, 0.4422732...        Yuthika Goel   \n",
       "\n",
       "       role  \n",
       "0   Student  \n",
       "1   Student  \n",
       "2   Student  \n",
       "3   Student  \n",
       "4     Admin  \n",
       "5   Teacher  \n",
       "6   Teacher  \n",
       "7   Student  \n",
       "8   Teacher  \n",
       "9   Student  \n",
       "10  Student  \n",
       "11  Teacher  "
      ]
     },
     "execution_count": 5,
     "metadata": {},
     "output_type": "execute_result"
    }
   ],
   "source": [
    "name = 'company:register'\n",
    "retrive_dict = face_rec.r.hgetall(name)\n",
    "retrive_series = pd.Series(retrive_dict)\n",
    "retrive_series = retrive_series.apply(lambda x: np.frombuffer(x,dtype=np.float32))\n",
    "index = retrive_series.index\n",
    "index = list(map(lambda x: x.decode(), index))\n",
    "retrive_series.index = index\n",
    "retrive_df = retrive_series.to_frame().reset_index()\n",
    "retrive_df.columns = ['name_role','facial_features']\n",
    "retrive_df[['name','role']] = retrive_df['name_role'].apply(lambda x: x.split('@')).apply(pd.Series)\n",
    "retrive_df"
   ]
  },
  {
   "cell_type": "code",
   "execution_count": 6,
   "id": "ca0b6976",
   "metadata": {},
   "outputs": [],
   "source": [
    "###Step 2: Get real time predictions"
   ]
  },
  {
   "cell_type": "code",
   "execution_count": 8,
   "id": "857725d4",
   "metadata": {},
   "outputs": [],
   "source": [
    "cap = cv2.VideoCapture(0)\n",
    "\n",
    "while True:\n",
    "    ret, frame = cap.read()\n",
    "    \n",
    "    if ret == False:\n",
    "        break\n",
    "        \n",
    "    pred_frame = face_rec.face_prediction(frame,retrive_df,'facial_features',['name','role'],thresh=0.5)\n",
    "    \n",
    "    #cv2.imshow('frame',frame)\n",
    "    cv2.imshow('prediction',pred_frame)\n",
    "    \n",
    "    if cv2.waitKey(1) == 27:\n",
    "        break\n",
    "\n",
    "cv2.destroyAllWindows()\n",
    "cap.release()                                        "
   ]
  },
  {
   "cell_type": "code",
   "execution_count": null,
   "id": "ffb8325a",
   "metadata": {},
   "outputs": [],
   "source": []
  },
  {
   "cell_type": "code",
   "execution_count": null,
   "id": "e1aa40d3",
   "metadata": {},
   "outputs": [],
   "source": []
  }
 ],
 "metadata": {
  "kernelspec": {
   "display_name": "Python 3 (ipykernel)",
   "language": "python",
   "name": "python3"
  },
  "language_info": {
   "codemirror_mode": {
    "name": "ipython",
    "version": 3
   },
   "file_extension": ".py",
   "mimetype": "text/x-python",
   "name": "python",
   "nbconvert_exporter": "python",
   "pygments_lexer": "ipython3",
   "version": "3.11.4"
  }
 },
 "nbformat": 4,
 "nbformat_minor": 5
}
